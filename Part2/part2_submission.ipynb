{
 "cells": [
  {
   "cell_type": "markdown",
   "id": "cbf6206a",
   "metadata": {},
   "source": [
    "# MSA 2025 Phase 2 - Part 2: Minimum Temperature Prediction from Weather Data"
   ]
  },
  {
   "cell_type": "markdown",
   "id": "3b46716d",
   "metadata": {},
   "source": [
    "## 1. Load and check the dataset"
   ]
  },
  {
   "cell_type": "code",
   "id": "11a8294f",
   "metadata": {
    "ExecuteTime": {
     "end_time": "2025-07-05T10:51:51.875783Z",
     "start_time": "2025-07-05T10:51:51.720718Z"
    }
   },
   "source": [
    "import pandas as pd\n",
    "import numpy as np\n",
    "import matplotlib.pyplot as plt\n",
    "import seaborn as sns\n",
    "from sklearn.model_selection import train_test_split\n",
    "from sklearn.linear_model import LinearRegression\n",
    "from sklearn.metrics import mean_squared_error, r2_score\n",
    "\n",
    "# load the dataset\n",
    "# avoid DtypeWarning: Columns (0,1,2,3,4,5,6,7,8,9,10,11,12,13,14) have mixed types. Specify dtype option on import or set low_memory=False.\n",
    "\n",
    "df = pd.read_csv('Summary of Weather.csv', low_memory=False)\n",
    "\n",
    "print('first 5 rows of the dataset:')\n",
    "display(df.head())\n",
    "print('all columns in the dataset:')\n",
    "print(df.columns.tolist())\n",
    "print('info of the dataset:')\n",
    "df.info()"
   ],
   "outputs": [
    {
     "name": "stdout",
     "output_type": "stream",
     "text": [
      "first 5 rows of the dataset:\n"
     ]
    },
    {
     "data": {
      "text/plain": [
       "     STA      Date Precip  WindGustSpd    MaxTemp    MinTemp   MeanTemp  \\\n",
       "0  10001  1942-7-1  1.016          NaN  25.555556  22.222222  23.888889   \n",
       "1  10001  1942-7-2      0          NaN  28.888889  21.666667  25.555556   \n",
       "2  10001  1942-7-3   2.54          NaN  26.111111  22.222222  24.444444   \n",
       "3  10001  1942-7-4   2.54          NaN  26.666667  22.222222  24.444444   \n",
       "4  10001  1942-7-5      0          NaN  26.666667  21.666667  24.444444   \n",
       "\n",
       "  Snowfall PoorWeather  YR  ...  FB  FTI ITH  PGT  TSHDSBRSGF  SD3  RHX  RHN  \\\n",
       "0        0         NaN  42  ... NaN  NaN NaN  NaN         NaN  NaN  NaN  NaN   \n",
       "1        0         NaN  42  ... NaN  NaN NaN  NaN         NaN  NaN  NaN  NaN   \n",
       "2        0         NaN  42  ... NaN  NaN NaN  NaN         NaN  NaN  NaN  NaN   \n",
       "3        0         NaN  42  ... NaN  NaN NaN  NaN         NaN  NaN  NaN  NaN   \n",
       "4        0         NaN  42  ... NaN  NaN NaN  NaN         NaN  NaN  NaN  NaN   \n",
       "\n",
       "  RVG  WTE  \n",
       "0 NaN  NaN  \n",
       "1 NaN  NaN  \n",
       "2 NaN  NaN  \n",
       "3 NaN  NaN  \n",
       "4 NaN  NaN  \n",
       "\n",
       "[5 rows x 31 columns]"
      ],
      "text/html": [
       "<div>\n",
       "<style scoped>\n",
       "    .dataframe tbody tr th:only-of-type {\n",
       "        vertical-align: middle;\n",
       "    }\n",
       "\n",
       "    .dataframe tbody tr th {\n",
       "        vertical-align: top;\n",
       "    }\n",
       "\n",
       "    .dataframe thead th {\n",
       "        text-align: right;\n",
       "    }\n",
       "</style>\n",
       "<table border=\"1\" class=\"dataframe\">\n",
       "  <thead>\n",
       "    <tr style=\"text-align: right;\">\n",
       "      <th></th>\n",
       "      <th>STA</th>\n",
       "      <th>Date</th>\n",
       "      <th>Precip</th>\n",
       "      <th>WindGustSpd</th>\n",
       "      <th>MaxTemp</th>\n",
       "      <th>MinTemp</th>\n",
       "      <th>MeanTemp</th>\n",
       "      <th>Snowfall</th>\n",
       "      <th>PoorWeather</th>\n",
       "      <th>YR</th>\n",
       "      <th>...</th>\n",
       "      <th>FB</th>\n",
       "      <th>FTI</th>\n",
       "      <th>ITH</th>\n",
       "      <th>PGT</th>\n",
       "      <th>TSHDSBRSGF</th>\n",
       "      <th>SD3</th>\n",
       "      <th>RHX</th>\n",
       "      <th>RHN</th>\n",
       "      <th>RVG</th>\n",
       "      <th>WTE</th>\n",
       "    </tr>\n",
       "  </thead>\n",
       "  <tbody>\n",
       "    <tr>\n",
       "      <th>0</th>\n",
       "      <td>10001</td>\n",
       "      <td>1942-7-1</td>\n",
       "      <td>1.016</td>\n",
       "      <td>NaN</td>\n",
       "      <td>25.555556</td>\n",
       "      <td>22.222222</td>\n",
       "      <td>23.888889</td>\n",
       "      <td>0</td>\n",
       "      <td>NaN</td>\n",
       "      <td>42</td>\n",
       "      <td>...</td>\n",
       "      <td>NaN</td>\n",
       "      <td>NaN</td>\n",
       "      <td>NaN</td>\n",
       "      <td>NaN</td>\n",
       "      <td>NaN</td>\n",
       "      <td>NaN</td>\n",
       "      <td>NaN</td>\n",
       "      <td>NaN</td>\n",
       "      <td>NaN</td>\n",
       "      <td>NaN</td>\n",
       "    </tr>\n",
       "    <tr>\n",
       "      <th>1</th>\n",
       "      <td>10001</td>\n",
       "      <td>1942-7-2</td>\n",
       "      <td>0</td>\n",
       "      <td>NaN</td>\n",
       "      <td>28.888889</td>\n",
       "      <td>21.666667</td>\n",
       "      <td>25.555556</td>\n",
       "      <td>0</td>\n",
       "      <td>NaN</td>\n",
       "      <td>42</td>\n",
       "      <td>...</td>\n",
       "      <td>NaN</td>\n",
       "      <td>NaN</td>\n",
       "      <td>NaN</td>\n",
       "      <td>NaN</td>\n",
       "      <td>NaN</td>\n",
       "      <td>NaN</td>\n",
       "      <td>NaN</td>\n",
       "      <td>NaN</td>\n",
       "      <td>NaN</td>\n",
       "      <td>NaN</td>\n",
       "    </tr>\n",
       "    <tr>\n",
       "      <th>2</th>\n",
       "      <td>10001</td>\n",
       "      <td>1942-7-3</td>\n",
       "      <td>2.54</td>\n",
       "      <td>NaN</td>\n",
       "      <td>26.111111</td>\n",
       "      <td>22.222222</td>\n",
       "      <td>24.444444</td>\n",
       "      <td>0</td>\n",
       "      <td>NaN</td>\n",
       "      <td>42</td>\n",
       "      <td>...</td>\n",
       "      <td>NaN</td>\n",
       "      <td>NaN</td>\n",
       "      <td>NaN</td>\n",
       "      <td>NaN</td>\n",
       "      <td>NaN</td>\n",
       "      <td>NaN</td>\n",
       "      <td>NaN</td>\n",
       "      <td>NaN</td>\n",
       "      <td>NaN</td>\n",
       "      <td>NaN</td>\n",
       "    </tr>\n",
       "    <tr>\n",
       "      <th>3</th>\n",
       "      <td>10001</td>\n",
       "      <td>1942-7-4</td>\n",
       "      <td>2.54</td>\n",
       "      <td>NaN</td>\n",
       "      <td>26.666667</td>\n",
       "      <td>22.222222</td>\n",
       "      <td>24.444444</td>\n",
       "      <td>0</td>\n",
       "      <td>NaN</td>\n",
       "      <td>42</td>\n",
       "      <td>...</td>\n",
       "      <td>NaN</td>\n",
       "      <td>NaN</td>\n",
       "      <td>NaN</td>\n",
       "      <td>NaN</td>\n",
       "      <td>NaN</td>\n",
       "      <td>NaN</td>\n",
       "      <td>NaN</td>\n",
       "      <td>NaN</td>\n",
       "      <td>NaN</td>\n",
       "      <td>NaN</td>\n",
       "    </tr>\n",
       "    <tr>\n",
       "      <th>4</th>\n",
       "      <td>10001</td>\n",
       "      <td>1942-7-5</td>\n",
       "      <td>0</td>\n",
       "      <td>NaN</td>\n",
       "      <td>26.666667</td>\n",
       "      <td>21.666667</td>\n",
       "      <td>24.444444</td>\n",
       "      <td>0</td>\n",
       "      <td>NaN</td>\n",
       "      <td>42</td>\n",
       "      <td>...</td>\n",
       "      <td>NaN</td>\n",
       "      <td>NaN</td>\n",
       "      <td>NaN</td>\n",
       "      <td>NaN</td>\n",
       "      <td>NaN</td>\n",
       "      <td>NaN</td>\n",
       "      <td>NaN</td>\n",
       "      <td>NaN</td>\n",
       "      <td>NaN</td>\n",
       "      <td>NaN</td>\n",
       "    </tr>\n",
       "  </tbody>\n",
       "</table>\n",
       "<p>5 rows × 31 columns</p>\n",
       "</div>"
      ]
     },
     "metadata": {},
     "output_type": "display_data"
    },
    {
     "name": "stdout",
     "output_type": "stream",
     "text": [
      "all columns in the dataset:\n",
      "['STA', 'Date', 'Precip', 'WindGustSpd', 'MaxTemp', 'MinTemp', 'MeanTemp', 'Snowfall', 'PoorWeather', 'YR', 'MO', 'DA', 'PRCP', 'DR', 'SPD', 'MAX', 'MIN', 'MEA', 'SNF', 'SND', 'FT', 'FB', 'FTI', 'ITH', 'PGT', 'TSHDSBRSGF', 'SD3', 'RHX', 'RHN', 'RVG', 'WTE']\n",
      "info of the dataset:\n",
      "<class 'pandas.core.frame.DataFrame'>\n",
      "RangeIndex: 119040 entries, 0 to 119039\n",
      "Data columns (total 31 columns):\n",
      " #   Column       Non-Null Count   Dtype  \n",
      "---  ------       --------------   -----  \n",
      " 0   STA          119040 non-null  int64  \n",
      " 1   Date         119040 non-null  object \n",
      " 2   Precip       119040 non-null  object \n",
      " 3   WindGustSpd  532 non-null     float64\n",
      " 4   MaxTemp      119040 non-null  float64\n",
      " 5   MinTemp      119040 non-null  float64\n",
      " 6   MeanTemp     119040 non-null  float64\n",
      " 7   Snowfall     117877 non-null  object \n",
      " 8   PoorWeather  34237 non-null   object \n",
      " 9   YR           119040 non-null  int64  \n",
      " 10  MO           119040 non-null  int64  \n",
      " 11  DA           119040 non-null  int64  \n",
      " 12  PRCP         117108 non-null  object \n",
      " 13  DR           533 non-null     float64\n",
      " 14  SPD          532 non-null     float64\n",
      " 15  MAX          118566 non-null  float64\n",
      " 16  MIN          118572 non-null  float64\n",
      " 17  MEA          118542 non-null  float64\n",
      " 18  SNF          117877 non-null  object \n",
      " 19  SND          5563 non-null    float64\n",
      " 20  FT           0 non-null       float64\n",
      " 21  FB           0 non-null       float64\n",
      " 22  FTI          0 non-null       float64\n",
      " 23  ITH          0 non-null       float64\n",
      " 24  PGT          525 non-null     float64\n",
      " 25  TSHDSBRSGF   34237 non-null   object \n",
      " 26  SD3          0 non-null       float64\n",
      " 27  RHX          0 non-null       float64\n",
      " 28  RHN          0 non-null       float64\n",
      " 29  RVG          0 non-null       float64\n",
      " 30  WTE          0 non-null       float64\n",
      "dtypes: float64(20), int64(4), object(7)\n",
      "memory usage: 28.2+ MB\n"
     ]
    }
   ],
   "execution_count": 5
  },
  {
   "cell_type": "markdown",
   "id": "24632408",
   "metadata": {},
   "source": [
    "## 2. Clean the dataset, drop variables"
   ]
  },
  {
   "cell_type": "code",
   "id": "e679c86c",
   "metadata": {
    "ExecuteTime": {
     "end_time": "2025-07-05T10:54:11.967399Z",
     "start_time": "2025-07-05T10:54:11.774781Z"
    }
   },
   "source": [
    "# delete columns with all NaN values\n",
    "nan_cols = [col for col in df.columns if df[col].isnull().all()]\n",
    "df = df.drop(columns=nan_cols)\n",
    "\n",
    "# 2. delete columns with high missing values(>95%)\n",
    "missing_ratio = df.isnull().mean()\n",
    "high_missing_cols = missing_ratio[missing_ratio > 0.95].index.tolist()\n",
    "df = df.drop(columns=high_missing_cols)\n",
    "\n",
    "# transform object columns that should be numeric\n",
    "for col in ['Precip', 'Snowfall', 'PRCP', 'SNF']:\n",
    "    if col in df.columns:\n",
    "        df[col] = pd.to_numeric(df[col], errors='coerce')\n",
    "\n",
    "# display remaining features and missing values\n",
    "print('remaining features after cleaning:')\n",
    "print(df.columns.tolist())\n",
    "print('sum of missing values in each column:')\n",
    "print(df.isnull().sum())\n",
    "\n",
    "# calculate the correlation of numeric features with MinTemp\n",
    "numeric_cols = df.select_dtypes(include=[np.number]).columns.tolist()\n",
    "if 'MinTemp' in numeric_cols:\n",
    "    corr = df[numeric_cols].corr()['MinTemp'].sort_values(ascending=False)\n",
    "    print('correlation with MinTemp:')\n",
    "    print(corr)\n",
    "else:\n",
    "    print('MinTemp is not in numeric features')"
   ],
   "outputs": [
    {
     "name": "stdout",
     "output_type": "stream",
     "text": [
      "remaining features after cleaning:\n",
      "['STA', 'Date', 'Precip', 'MaxTemp', 'MinTemp', 'MeanTemp', 'Snowfall', 'PoorWeather', 'YR', 'MO', 'DA', 'PRCP', 'MAX', 'MIN', 'MEA', 'SNF', 'TSHDSBRSGF']\n",
      "sum of missing values in each column:\n",
      "STA                0\n",
      "Date               0\n",
      "Precip         16753\n",
      "MaxTemp            0\n",
      "MinTemp            0\n",
      "MeanTemp           0\n",
      "Snowfall        1207\n",
      "PoorWeather    84803\n",
      "YR                 0\n",
      "MO                 0\n",
      "DA                 0\n",
      "PRCP           18685\n",
      "MAX              474\n",
      "MIN              468\n",
      "MEA              498\n",
      "SNF             1207\n",
      "TSHDSBRSGF     84803\n",
      "dtype: int64\n",
      "correlation with MinTemp:\n",
      "MinTemp     1.000000\n",
      "MIN         1.000000\n",
      "MEA         0.966441\n",
      "MeanTemp    0.965425\n",
      "MaxTemp     0.878384\n",
      "MAX         0.872096\n",
      "Precip      0.098579\n",
      "PRCP        0.097451\n",
      "MO          0.069078\n",
      "STA         0.059319\n",
      "DA         -0.002576\n",
      "YR         -0.020733\n",
      "Snowfall   -0.320022\n",
      "SNF        -0.320022\n",
      "Name: MinTemp, dtype: float64\n"
     ]
    }
   ],
   "execution_count": 6
  },
  {
   "cell_type": "markdown",
   "id": "6a3ab152",
   "metadata": {},
   "source": [
    "## 3. Select the feature(s) for the model, and explain the reason"
   ]
  },
  {
   "cell_type": "code",
   "id": "5696ae4f",
   "metadata": {
    "ExecuteTime": {
     "end_time": "2025-07-05T10:57:18.030013Z",
     "start_time": "2025-07-05T10:57:18.027483Z"
    }
   },
   "source": [
    "# MIN, MEA and MeanTemp are all highly correlated with MinTemp, but MIN/MEA are almost the same as MinTemp/MeanTemp, so they should not be selected because of the possible data leak. MaxTemp and MAX are highly correlated to MinTemp too, but use both of them may lead to replication, so we only select MaxTemp. Precip and PRCP are not highly correlated with Mintemp, and they are pretty similar, so only Precip is selected because it is higher in value. So does Snowfall and SNF, Snowfall selected. YR, MO, and DA are selected no matter how the correlations are because they are time features.\n",
    "\n",
    "selected_features = ['MaxTemp', 'Precip', 'Snowfall', 'YR', 'MO', 'DA']\n",
    "print('Selected features for modeling:', selected_features)"
   ],
   "outputs": [
    {
     "name": "stdout",
     "output_type": "stream",
     "text": [
      "Selected features for modeling: ['MaxTemp', 'Precip', 'Snowfall', 'YR', 'MO', 'DA']\n"
     ]
    }
   ],
   "execution_count": 8
  },
  {
   "metadata": {},
   "cell_type": "markdown",
   "source": "## 4. Split the dataset (80% for training, 20% for testing)",
   "id": "a726bcc8"
  },
  {
   "cell_type": "code",
   "id": "d8486b2e",
   "metadata": {
    "ExecuteTime": {
     "end_time": "2025-07-05T10:59:15.828894Z",
     "start_time": "2025-07-05T10:59:15.814656Z"
    }
   },
   "source": [
    "# Drop rows with missing values in selected features or target\n",
    "model_data = df[selected_features + ['MinTemp']].dropna()\n",
    "X = model_data[selected_features]\n",
    "y = model_data['MinTemp']\n",
    "\n",
    "# Split the dataset\n",
    "X_train, X_test, y_train, y_test = train_test_split(\n",
    "    X, y, test_size=0.2, random_state=42\n",
    ")\n",
    "\n",
    "print('Training set shape:', X_train.shape)\n",
    "print('Test set shape:', X_test.shape)"
   ],
   "outputs": [
    {
     "name": "stdout",
     "output_type": "stream",
     "text": [
      "Training set shape: (81087, 6)\n",
      "Test set shape: (20272, 6)\n"
     ]
    }
   ],
   "execution_count": 9
  },
  {
   "metadata": {},
   "cell_type": "markdown",
   "source": "## 5. Choose the algorithm, train and test the model",
   "id": "cd3e41b14bbeed12"
  },
  {
   "metadata": {
    "ExecuteTime": {
     "end_time": "2025-07-05T11:03:27.803680Z",
     "start_time": "2025-07-05T11:03:27.795225Z"
    }
   },
   "cell_type": "code",
   "source": [
    "# We use Linear Regression for this regression task\n",
    "from sklearn.linear_model import LinearRegression\n",
    "\n",
    "# Instantiate the model\n",
    "reg = LinearRegression()\n",
    "# Fit the model on the training data\n",
    "reg.fit(X_train, y_train)\n",
    "# Predict on the test set\n",
    "y_pred = reg.predict(X_test)"
   ],
   "id": "e9fc71c82c1a4ca2",
   "outputs": [],
   "execution_count": 14
  },
  {
   "metadata": {},
   "cell_type": "markdown",
   "source": "## 6. Evaluate and Visualize model Performance",
   "id": "c614c7a5bf316ba3"
  },
  {
   "metadata": {
    "ExecuteTime": {
     "end_time": "2025-07-05T11:08:14.956953Z",
     "start_time": "2025-07-05T11:08:14.811415Z"
    }
   },
   "cell_type": "code",
   "source": [
    "# Calculate R^2 and RMSE\n",
    "r2 = r2_score(y_test, y_pred)\n",
    "\n",
    "# For older versions of scikit-learn, use np.sqrt on mean_squared_error\n",
    "rmse = np.sqrt(mean_squared_error(y_test, y_pred))\n",
    "print(f'R^2: {r2:.4f}')\n",
    "print(f'RMSE: {rmse:.4f}')\n",
    "\n",
    "# Plot predicted vs true values with regression line and ideal fit\n",
    "plt.figure(figsize=(7, 5))\n",
    "plt.scatter(y_test, y_pred, alpha=0.3, label='Predictions')\n",
    "\n",
    "# Fit a regression line to the predictions\n",
    "z = np.polyfit(y_test, y_pred, 1)\n",
    "p = np.poly1d(z)\n",
    "plt.plot(y_test, p(y_test), 'b-', lw=2, label='Regression Line')\n",
    "\n",
    "# Plot the ideal fit line (y = x)\n",
    "plt.plot([y_test.min(), y_test.max()], [y_test.min(), y_test.max()], 'r--', lw=2, label='Ideal Fit')\n",
    "plt.xlabel('True MinTemp')\n",
    "plt.ylabel('Predicted MinTemp')\n",
    "plt.title('Predicted vs True MinTemp')\n",
    "plt.legend()\n",
    "plt.show()\n"
   ],
   "id": "4e250b74c5d546dc",
   "outputs": [
    {
     "name": "stdout",
     "output_type": "stream",
     "text": [
      "R^2: 0.7609\n",
      "RMSE: 3.9642\n"
     ]
    },
    {
     "data": {
      "text/plain": [
       "<Figure size 700x500 with 1 Axes>"
      ],
      "image/png": "[encoded data removed]"
     },
     "metadata": {},
     "output_type": "display_data"
    }
   ],
   "execution_count": 19
  },
  {
   "metadata": {},
   "cell_type": "markdown",
   "source": "## 7. What is the R² value and RMSE of the model? How these values indicate the model performance?",
   "id": "8bb482d47357b9af"
  },
  {
   "metadata": {},
   "cell_type": "code",
   "outputs": [],
   "execution_count": null,
   "source": [
    "# R^2: 0.7609\n",
    "# RMSE: 3.9642\n",
    "\n",
    "\n",
    "# R^2 is used to measure how the model is fitted with the dataset, the closer to 1, the fitter the model.A 0.7609 means the model can predict about 76% of the variance of the feature.\n",
    "#\n",
    "# RMSE is the mean of the prediction error, the smaller the value, the better the performance.A 3.9642 means on average the prediction values will have a difference of 3.96 in value with the actual ones."
   ],
   "id": "f8699ed7f68bc682"
  },
  {
   "metadata": {},
   "cell_type": "markdown",
   "source": "## 8. Discuss the model performance based on the plot",
   "id": "298c3ab9fb772233"
  },
  {
   "metadata": {},
   "cell_type": "code",
   "outputs": [],
   "execution_count": null,
   "source": "# We can see from the plot that most points are close to the upper part of the regression line, and it seems to be symmetric on both sides of the regression line.The points are tense and close to the line, so the performance of the model is pretty good in general.But there are still some outliers in the temperature range 10 to 30 and around -20, meaning that the model cannot capture all the features in the data set.Moreover, since the ideal fit line is separated from the regression line, this also indicates the model performance is perfect, and the points are not distributed around the ideal fit line symmetrically, too.So there are small bias in the model although the model performance is well.A simple way the improve the performance might be adding more features to the model, or we can use a non-linear model instead.",
   "id": "c85bf0a4b787a1d3"
  }
 ],
 "metadata": {
  "kernelspec": {
   "display_name": "Python 3",
   "language": "python",
   "name": "python3"
  },
  "language_info": {
   "codemirror_mode": {
    "name": "ipython",
    "version": 3
   },
   "file_extension": ".py",
   "mimetype": "text/x-python",
   "name": "python",
   "nbconvert_exporter": "python",
   "pygments_lexer": "ipython3",
   "version": "3.10.13"
  }
 },
 "nbformat": 4,
 "nbformat_minor": 5
}
