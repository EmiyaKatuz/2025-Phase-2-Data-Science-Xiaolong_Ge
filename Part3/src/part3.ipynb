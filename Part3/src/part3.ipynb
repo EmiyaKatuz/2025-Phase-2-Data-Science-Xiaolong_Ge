{
 "cells": [
  {
   "cell_type": "markdown",
   "id": "2249078461bec40c",
   "metadata": {
    "collapsed": false
   },
   "source": [
    "## Step 0. Folder Structure\n",
    "```\n",
    "3. Deep Learning Project/\n",
    "├── dataset_split/\n",
    "│   ├── train/\n",
    "│   │   ├── african_elephant (780 images)\n",
    "│   │   ├── airliner (780 images)\n",
    "│   │   └── ... (8 more folders)\n",
    "│   ├── val/\n",
    "│   │   ├── african_elephant (260 images)\n",
    "│   │   ├── airliner (260 images)\n",
    "│   │   └── ... (8 more folders)\n",
    "│   └── test (2600 images)\n",
    "├── data_preprocessed/\n",
    "│   ├── labels_train.pt\n",
    "│   ├── labels_val.pt\n",
    "│   ├── tensor_test.pt\n",
    "│   ├── tensor_train.pt\n",
    "│   └── tensor_val.pt\n",
    "├── models/\n",
    "│   ├── resnet18_checkpoint.pkl\n",
    "│   └── resnet34_checkpoint.pkl\n",
    "├── src/\n",
    "│   └── part3.ipynb\n",
    "├── src_datasplit/\n",
    "│   └── data_split.ipynb\n",
    "├── MSA.yaml\n",
    "├── README.md\n",
    "└── IEEE_Report_Template.docx\n",
    "```\n"
   ]
  },
  {
   "cell_type": "code",
   "id": "feff9f82a794ed57",
   "metadata": {
    "collapsed": false,
    "ExecuteTime": {
     "end_time": "2025-07-13T11:00:52.067471Z",
     "start_time": "2025-07-13T11:00:52.051087Z"
    }
   },
   "source": [
    "# TODO: Import the libraries.\n",
    "from typing import Tuple, List\n",
    "import os\n",
    "import cv2\n",
    "from tqdm import tqdm\n",
    "import numpy as np\n",
    "import torch\n",
    "import torchvision\n",
    "import torch.nn as nn\n",
    "import torch.nn.functional as F\n",
    "from collections import OrderedDict\n",
    "import copy\n",
    "import matplotlib.pyplot as plt\n",
    "import csv"
   ],
   "outputs": [],
   "execution_count": 5
  },
  {
   "cell_type": "markdown",
   "id": "129404feccd45358",
   "metadata": {
    "collapsed": false
   },
   "source": [
    "## Step 1 Preprocessing\n",
    "1. Load images and labels from folders into lists.\n",
    "2. Resize the images.\n",
    "3. Convert the image data type as float32 and limit the range in [0, 1].\n",
    "4. Convert data from NHWC to NCHW and creat a PyTorch tensor from it.\n",
    "5. Per-channel standardization of the dataset using training set statistics (mean and std computed independently for each color channel).\n",
    "6. Saving the pre-processed sets as .pt files in the correct directory.\n",
    "7. Load the pre-processed sets from .pt files. "
   ]
  },
  {
   "cell_type": "code",
   "id": "initial_id",
   "metadata": {
    "collapsed": true,
    "ExecuteTime": {
     "end_time": "2025-07-13T11:00:52.098524Z",
     "start_time": "2025-07-13T11:00:52.083374Z"
    }
   },
   "source": [
    "# TODO: 1. Load images from folder into a list.\n",
    "def image_loader(set_dir: str) -> Tuple[List[np.ndarray], List[str]]:\n",
    "    \"\"\"\n",
    "    Load all images from a dataset directory (train/val/test) into memory.\n",
    "    Make sure:\n",
    "        1. Load training and validation set images and labels in the correct order.\n",
    "        2. Load testing set images in filename order (e.g., 0.jpg, 1.jpg, ...).\n",
    "    \n",
    "    Parameters:\n",
    "    -----------\n",
    "    set_dir : str\n",
    "        Path to the directory containing either:\n",
    "        - Class subdirectories (for train/val sets)\n",
    "        - Direct image files (for test set)\n",
    "        \n",
    "    Returns:\n",
    "    --------\n",
    "    Tuple[List[np.ndarray], List[str]]\n",
    "        images: List of BGR images (HWC format, uint8 dtype)\n",
    "        labels: List of string labels (empty for test set)\n",
    "        \n",
    "    Example:\n",
    "    --------\n",
    "    >>> images_train, labels_train = image_loader(\"../dataset_split/train\")\n",
    "    >>> images_test, _ = image_loader(\"../dataset_split/test\")\n",
    "    \"\"\"\n",
    "\n",
    "    images = []\n",
    "    labels = []\n",
    "\n",
    "    if \"test\" in set_dir:\n",
    "        # Load test images in filename order\n",
    "        for filename in sorted(os.listdir(set_dir), key=lambda x: int(x.split('.')[0])):\n",
    "            if filename.endswith(('.jpg', '.jpeg', '.png')):\n",
    "                img_path = os.path.join(set_dir, filename)\n",
    "                img = cv2.imread(img_path)\n",
    "                if img is not None:\n",
    "                    images.append(img)\n",
    "    else:\n",
    "        # Load train/val images with labels\n",
    "        for label in sorted(os.listdir(set_dir)):\n",
    "            label_dir = os.path.join(set_dir, label)\n",
    "            if os.path.isdir(label_dir):\n",
    "                for filename in os.listdir(label_dir):\n",
    "                    if filename.endswith(('.jpg', '.jpeg', '.png')):\n",
    "                        img_path = os.path.join(label_dir, filename)\n",
    "                        img = cv2.imread(img_path)\n",
    "                        if img is not None:\n",
    "                            images.append(img)\n",
    "                            labels.append(label)\n",
    "\n",
    "    return images, labels"
   ],
   "outputs": [],
   "execution_count": 6
  },
  {
   "cell_type": "code",
   "id": "e9151a560c344fe2",
   "metadata": {
    "collapsed": false,
    "ExecuteTime": {
     "end_time": "2025-07-13T11:00:52.130213Z",
     "start_time": "2025-07-13T11:00:52.115681Z"
    }
   },
   "source": [
    "# TODO: 2. Resize images.\n",
    "def img_resize(images: List[np.ndarray], target_size: int = 224) -> np.ndarray:\n",
    "    \"\"\"\n",
    "    Resize images with the shortest edge to target_size and perform center cropping to square dimensions.\n",
    "    \n",
    "    Args:\n",
    "        images: List of input images in BGR format (OpenCV default) with shape (H, W, C)\n",
    "        target_size: Desired output size (both width and height after cropping). Default 224.\n",
    "        \n",
    "    Returns:\n",
    "        Stacked numpy array of processed images with shape (N, target_size, target_size, 3)\n",
    "        where N is the number of input images\n",
    "        \n",
    "    Raises:\n",
    "        ValueError: If input images have inconsistent channels or invalid dimensions\n",
    "        \n",
    "    Notes:\n",
    "        - Preserves original aspect ratio during resizing\n",
    "        - Performs center cropping to exact square dimensions\n",
    "        - Maintains uint8 dtype unless conversion forces float32\n",
    "        \n",
    "    Example:\n",
    "        >>> imgs = [cv2.imread('test.jpg')]  # List of BGR images\n",
    "        >>> processed = img_resize(imgs)\n",
    "        >>> processed.shape  # (1, 224, 224, 3)\n",
    "    \"\"\"\n",
    "    if not images:\n",
    "        return np.array([])\n",
    "\n",
    "    processed_images = []\n",
    "    for img in tqdm(images, desc=\"Resizing images\"):\n",
    "        h, w, c = img.shape\n",
    "        if c != 3:\n",
    "            raise ValueError(f\"Invalid number of channels: {c}. Expected 3.\")\n",
    "\n",
    "        # 1. Resize based on the shortest edge\n",
    "        if h < w:\n",
    "            new_h = target_size\n",
    "            new_w = int(w * (target_size / h))\n",
    "        else:\n",
    "            new_w = target_size\n",
    "            new_h = int(h * (target_size / w))\n",
    "\n",
    "        resized_img = cv2.resize(img, (new_w, new_h), interpolation=cv2.INTER_AREA)\n",
    "\n",
    "        # 2. Center crop\n",
    "        h, w, _ = resized_img.shape\n",
    "        start_x = (w - target_size) // 2\n",
    "        start_y = (h - target_size) // 2\n",
    "\n",
    "        cropped_img = resized_img[start_y:start_y + target_size, start_x:start_x + target_size]\n",
    "\n",
    "        # Ensure the cropped image has the exact target size\n",
    "        if cropped_img.shape[0] != target_size or cropped_img.shape[1] != target_size:\n",
    "            cropped_img = cv2.resize(cropped_img, (target_size, target_size), interpolation=cv2.INTER_AREA)\n",
    "\n",
    "        processed_images.append(cropped_img)\n",
    "\n",
    "    return np.array(processed_images)\n"
   ],
   "outputs": [],
   "execution_count": 7
  },
  {
   "cell_type": "code",
   "id": "bd1862b268144556",
   "metadata": {
    "collapsed": false,
    "ExecuteTime": {
     "end_time": "2025-07-13T11:01:07.106084Z",
     "start_time": "2025-07-13T11:00:52.145999Z"
    }
   },
   "source": [
    "# Load images\n",
    "\n",
    "images_train, labels_train = image_loader(\"../dataset_split/train\")\n",
    "images_val, labels_val = image_loader(\"../dataset_split/val\")\n",
    "images_test, _ = image_loader(\"../dataset_split/test\")"
   ],
   "outputs": [],
   "execution_count": 8
  },
  {
   "cell_type": "code",
   "id": "1975435fea13d751",
   "metadata": {
    "collapsed": false,
    "ExecuteTime": {
     "end_time": "2025-07-13T11:01:19.328089Z",
     "start_time": "2025-07-13T11:01:07.154380Z"
    }
   },
   "source": [
    "# Resize the images\n",
    "\n",
    "images_train = img_resize(images_train, 224)\n",
    "images_val = img_resize(images_val, 224)\n",
    "images_test = img_resize(images_test, 224)"
   ],
   "outputs": [
    {
     "name": "stderr",
     "output_type": "stream",
     "text": [
      "Resizing images: 100%|██████████| 7800/7800 [00:06<00:00, 1230.20it/s]\n",
      "Resizing images: 100%|██████████| 2600/2600 [00:02<00:00, 1221.28it/s]\n",
      "Resizing images: 100%|██████████| 2600/2600 [00:02<00:00, 1089.56it/s]\n"
     ]
    }
   ],
   "execution_count": 9
  },
  {
   "cell_type": "code",
   "id": "bd71fcddecfefdbf",
   "metadata": {
    "collapsed": false,
    "ExecuteTime": {
     "end_time": "2025-07-13T11:01:22.130174Z",
     "start_time": "2025-07-13T11:01:19.345264Z"
    }
   },
   "source": [
    "# TODO: 3. Convert the image data type as float32 and limit the range in [0, 1].\n",
    "\n",
    "images_train = images_train.astype(np.float32) / 255.0\n",
    "images_val = images_val.astype(np.float32) / 255.0\n",
    "images_test = images_test.astype(np.float32) / 255.0\n",
    "\n",
    "print(f\"Train images: {len(images_train)}, Train labels: {len(labels_train)}\")\n",
    "print(f\"Val images: {len(images_val)}, Val labels: {len(labels_val)}\")\n",
    "print(f\"Test images: {len(images_test)}\")\n",
    "\n",
    "# Check the shape and data type of the images\n",
    "print(f\"Train images shape: {images_train.shape}\")\n",
    "print(f\"Val images shape: {images_val.shape}\")\n",
    "print(f\"Test images shape: {images_test.shape}\")\n",
    "print(f\"Data type: {images_train.dtype}\")\n",
    "print(f\"Value range: [{images_train.min():.3f}, {images_train.max():.3f}]\")"
   ],
   "outputs": [
    {
     "name": "stdout",
     "output_type": "stream",
     "text": [
      "Train images: 7800, Train labels: 7800\n",
      "Val images: 2600, Val labels: 2600\n",
      "Test images: 2600\n",
      "Train images shape: (7800, 224, 224, 3)\n",
      "Val images shape: (2600, 224, 224, 3)\n",
      "Test images shape: (2600, 224, 224, 3)\n",
      "Data type: float32\n",
      "Value range: [0.000, 1.000]\n"
     ]
    }
   ],
   "execution_count": 10
  },
  {
   "cell_type": "code",
   "id": "1938cec6018a8176",
   "metadata": {
    "collapsed": false,
    "ExecuteTime": {
     "end_time": "2025-07-13T11:01:22.207520Z",
     "start_time": "2025-07-13T11:01:22.192989Z"
    }
   },
   "source": [
    "# TODO: 4. Convert data from NHWC to NCHW and creat a PyTorch tensor from it.\n",
    "\n",
    "tensor_train = torch.from_numpy(images_train.transpose(0, 3, 1, 2))\n",
    "tensor_val = torch.from_numpy(images_val.transpose(0, 3, 1, 2))\n",
    "tensor_test = torch.from_numpy(images_test.transpose(0, 3, 1, 2))"
   ],
   "outputs": [],
   "execution_count": 11
  },
  {
   "cell_type": "code",
   "id": "d584e1b61e015747",
   "metadata": {
    "collapsed": false,
    "ExecuteTime": {
     "end_time": "2025-07-13T11:01:29.800551Z",
     "start_time": "2025-07-13T11:01:22.271489Z"
    }
   },
   "source": [
    "# TODO: 5. Per-channel standardization of the dataset using training set statistics (mean and std computed independently for each color channel).\n",
    "\n",
    "# Standardized calculations\n",
    "train_mean = tensor_train.mean(dim=(0, 2, 3), keepdim=True)\n",
    "train_std = tensor_train.std(dim=(0, 2, 3), keepdim=True)\n",
    "\n",
    "# Numerical stability check\n",
    "print(f\"Train mean shape: {train_mean.shape}\")\n",
    "print(f\"Train std shape: {train_std.shape}\")\n",
    "print(f\"Train std values: {train_std.flatten()}\")\n",
    "\n",
    "# Ensure that the standard deviation is not zero\n",
    "tensor_train = (tensor_train - train_mean) / (train_std + 1e-7)\n",
    "tensor_val = (tensor_val - train_mean) / (train_std + 1e-7)\n",
    "tensor_test = (tensor_test - train_mean) / (train_std + 1e-7)"
   ],
   "outputs": [
    {
     "name": "stdout",
     "output_type": "stream",
     "text": [
      "Train mean shape: torch.Size([1, 3, 1, 1])\n",
      "Train std shape: torch.Size([1, 3, 1, 1])\n",
      "Train std values: tensor([0.2827, 0.2591, 0.2707])\n"
     ]
    }
   ],
   "execution_count": 12
  },
  {
   "metadata": {
    "ExecuteTime": {
     "end_time": "2025-07-13T11:01:37.074459Z",
     "start_time": "2025-07-13T11:01:29.847720Z"
    }
   },
   "cell_type": "code",
   "source": [
    "# TODO: 6. Save the pre-processed sets as .pt files.\n",
    "\n",
    "# 6.1 Save the tensor_train, tensor_val, and tensor_test as tensor_train.pt, tensor_val.pt, and tensor_test.pt, respectively.\n",
    "\n",
    "if not os.path.exists(\"../data_preprocessed\"):\n",
    "    os.makedirs(\"../data_preprocessed\")\n",
    "torch.save(tensor_train, \"../data_preprocessed/tensor_train.pt\", pickle_protocol=5)\n",
    "torch.save(tensor_val, \"../data_preprocessed/tensor_val.pt\", pickle_protocol=5)\n",
    "torch.save(tensor_test, \"../data_preprocessed/tensor_test.pt\", pickle_protocol=5)\n",
    "\n",
    "\n",
    "# 6.2 Create a list to map index to label and a dictionary to map label to index.\n",
    "#   For instance:\n",
    "#       unique_labels = ['african_elephant', 'airliner', ...]\n",
    "#       label_to_index = {\n",
    "#           'african_elephant': 0,\n",
    "#           'airliner': 1,\n",
    "#           ...\n",
    "#       }\n",
    "\n",
    "def get_unique_labels(train_dir):\n",
    "    \"\"\"Get sorted category name from the training set folder\"\"\"\n",
    "    return sorted([name for name in os.listdir(train_dir)\n",
    "                   if os.path.isdir(os.path.join(train_dir, name))])\n",
    "\n",
    "\n",
    "# Replace hard-coded category list\n",
    "unique_labels = get_unique_labels(\"../dataset_split/train\")\n",
    "label_to_index = {label: index for index, label in enumerate(unique_labels)}\n",
    "\n",
    "print(f\"Unique labels: {unique_labels}\")\n",
    "print(f\"Number of classes: {len(unique_labels)}\")\n",
    "\n",
    "# 6.3 Map the labels to index.\n",
    "labels_train_index = torch.tensor([label_to_index[label] for label in labels_train], dtype=torch.long)\n",
    "labels_val_index = torch.tensor([label_to_index[label] for label in labels_val], dtype=torch.long)\n",
    "\n",
    "# 6.4 Save the index, label_to_index, and index_to_label.\n",
    "torch.save(labels_train_index, \"../data_preprocessed/labels_train.pt\")\n",
    "torch.save(labels_val_index, \"../data_preprocessed/labels_val.pt\")\n",
    "index_to_label = {v: k for k, v in label_to_index.items()}\n",
    "torch.save(index_to_label, \"../data_preprocessed/index_to_label.pt\")"
   ],
   "id": "6f6497512e4b580e",
   "outputs": [
    {
     "name": "stdout",
     "output_type": "stream",
     "text": [
      "Unique labels: ['african_elephant', 'airliner', 'banana', 'convertible_car', 'golden_retriever', 'goldfish', 'parachute', 'rugby', 'sunglasses', 'tiger_cat']\n",
      "Number of classes: 10\n"
     ]
    }
   ],
   "execution_count": 13
  },
  {
   "cell_type": "code",
   "id": "a3a5a646027a826",
   "metadata": {
    "collapsed": false,
    "ExecuteTime": {
     "end_time": "2025-07-13T11:01:39.333792Z",
     "start_time": "2025-07-13T11:01:37.136825Z"
    }
   },
   "source": [
    "# TODO: 7. Load the pre-processed sets from .pt files. The data can be used directly in future without pre-processing once more by loading from the folder.\n",
    "\n",
    "tensor_train = torch.load(\"../data_preprocessed/tensor_train.pt\", weights_only=False)\n",
    "tensor_val = torch.load(\"../data_preprocessed/tensor_val.pt\", weights_only=False)\n",
    "tensor_test = torch.load(\"../data_preprocessed/tensor_test.pt\", weights_only=False)\n",
    "\n",
    "labels_train_index = torch.load(\"../data_preprocessed/labels_train.pt\")\n",
    "labels_val_index = torch.load(\"../data_preprocessed/labels_val.pt\")"
   ],
   "outputs": [],
   "execution_count": 14
  },
  {
   "cell_type": "markdown",
   "id": "f5cb7cfa317410ff",
   "metadata": {
    "collapsed": false
   },
   "source": [
    "# Step 2 Train the teacher model (ResNet34)\n",
    "1. Set hyperparameters for the training process.\n",
    "2. Create a pretrained ResNet34.\n",
    "3. Define the optimizer, loss function, etc.\n",
    "4. Train ResNet34 and save the best-performing parameters to 'resnet34_checkpoint.pkl'.\n",
    "5. Plot the loss and accuracy curves."
   ]
  },
  {
   "cell_type": "code",
   "id": "745979a1b12465eb",
   "metadata": {
    "collapsed": false,
    "ExecuteTime": {
     "end_time": "2025-07-13T11:01:39.395866Z",
     "start_time": "2025-07-13T11:01:39.365697Z"
    }
   },
   "source": [
    "# Verify data shapes\n",
    "\n",
    "num_classes = max(labels_train_index) + 1\n",
    "print(num_classes)\n",
    "print(tensor_train.shape)\n",
    "print(tensor_val.shape)\n",
    "print(tensor_test.shape)\n",
    "print(labels_train_index.shape)\n",
    "print(labels_val_index.shape)"
   ],
   "outputs": [
    {
     "name": "stdout",
     "output_type": "stream",
     "text": [
      "tensor(10)\n",
      "torch.Size([7800, 3, 224, 224])\n",
      "torch.Size([2600, 3, 224, 224])\n",
      "torch.Size([2600, 3, 224, 224])\n",
      "torch.Size([7800])\n",
      "torch.Size([2600])\n"
     ]
    }
   ],
   "execution_count": 15
  },
  {
   "cell_type": "code",
   "id": "507aa43e1a3701b5",
   "metadata": {
    "collapsed": false,
    "ExecuteTime": {
     "end_time": "2025-07-13T11:01:39.474262Z",
     "start_time": "2025-07-13T11:01:39.443838Z"
    }
   },
   "source": [
    "# TODO: 1. Set hyperparameters for the training process.\n",
    "\n",
    "MAX_EPOCH = 10\n",
    "INIT_LR = 0.01\n",
    "BATCH_SIZE = 200\n",
    "\n",
    "# Specify the training device (automatically detects GPU if available)\n",
    "# Usage example: \n",
    "#   tensor = tensor.to(device)  # Moves tensor to selected device\n",
    "device = torch.device(\"cuda\" if torch.cuda.is_available() else \"cpu\")"
   ],
   "outputs": [],
   "execution_count": 16
  },
  {
   "cell_type": "code",
   "id": "c8b9bf9ed5ae5cf9",
   "metadata": {
    "collapsed": false,
    "ExecuteTime": {
     "end_time": "2025-07-13T11:01:39.861048Z",
     "start_time": "2025-07-13T11:01:39.522252Z"
    }
   },
   "source": [
    "# TODO: 2. Create a pretrained ResNet34.\n",
    "\n",
    "# 2.1 Use torchvision to create a pretrained ResNet34.\n",
    "resnet34 = torchvision.models.resnet34(weights=torchvision.models.ResNet34_Weights.DEFAULT)\n",
    "\n",
    "# 2.2 Modify the output layer so that the model aligns with this project.\n",
    "resnet34.fc = nn.Linear(resnet34.fc.in_features, num_classes)\n",
    "\n",
    "# 2.3 Move the model to selected device.\n",
    "resnet34 = resnet34.to(device)"
   ],
   "outputs": [],
   "execution_count": 17
  },
  {
   "cell_type": "code",
   "id": "70de5ac59beb12d",
   "metadata": {
    "collapsed": false,
    "ExecuteTime": {
     "end_time": "2025-07-13T11:01:39.923543Z",
     "start_time": "2025-07-13T11:01:39.909013Z"
    }
   },
   "source": [
    "# TODO: 3. Define the optimizer, loss function, etc.\n",
    "\n",
    "optimizer = torch.optim.Adam(resnet34.parameters(), lr=INIT_LR)\n",
    "scheduler = torch.optim.lr_scheduler.StepLR(optimizer, step_size=3, gamma=0.1)\n",
    "criterion = nn.CrossEntropyLoss()  # Use CrossEntropyLoss for multi-class classification"
   ],
   "outputs": [],
   "execution_count": 18
  },
  {
   "cell_type": "code",
   "id": "65a797debcc531db",
   "metadata": {
    "collapsed": false,
    "ExecuteTime": {
     "end_time": "2025-07-13T11:12:11.268942Z",
     "start_time": "2025-07-13T11:01:39.970791Z"
    }
   },
   "source": [
    "# TODO: 4. Train ResNet34 and save the best-performing parameters to 'resnet34_checkpoint.pkl'.\n",
    "# Hint: May not need too many epochs as this is a pretrained model.\n",
    "from tqdm import trange\n",
    "\n",
    "train_accs_resnet34, train_losses_resnet34, val_accs_resnet34, val_losses_resnet34 = [], [], [], []\n",
    "best_val_acc = 0.0\n",
    "\n",
    "# Early stopping parameters\n",
    "patience = 3\n",
    "patience_counter = 0\n",
    "min_delta = 0.001\n",
    "\n",
    "for epoch in trange(MAX_EPOCH, desc=\"Training ResNet34\"):\n",
    "    # Clear the CUDA cache to free up memory\n",
    "    if torch.cuda.is_available():\n",
    "        torch.cuda.empty_cache()\n",
    "\n",
    "    resnet34.train()  # Set the model to training mode\n",
    "    train_loss = 0.0\n",
    "    correct = 0\n",
    "    total = 0\n",
    "\n",
    "    # Training phase\n",
    "    for i in range(0, len(tensor_train), BATCH_SIZE):\n",
    "        inputs = tensor_train[i:i + BATCH_SIZE].to(device)\n",
    "        labels = labels_train_index[i:i + BATCH_SIZE].to(device)\n",
    "\n",
    "        optimizer.zero_grad()  # Zero the gradients\n",
    "        outputs = resnet34(inputs)  # Forward pass\n",
    "        loss = criterion(outputs, labels)  # Compute loss\n",
    "        loss.backward()  # Backward pass\n",
    "        optimizer.step()  # Update weights\n",
    "\n",
    "        train_loss += loss.item() * inputs.size(0)\n",
    "        _, predicted = torch.max(outputs.data, 1)\n",
    "        total += labels.size(0)\n",
    "        correct += (predicted == labels).sum().item()\n",
    "\n",
    "    train_acc = correct / total\n",
    "    train_losses_resnet34.append(train_loss / len(tensor_train))\n",
    "    train_accs_resnet34.append(train_acc)\n",
    "\n",
    "    # Validation phase\n",
    "    resnet34.eval()  # Set the model to evaluation mode\n",
    "    val_loss = 0.0\n",
    "    correct_val = 0\n",
    "    total_val = 0\n",
    "\n",
    "    with torch.no_grad():\n",
    "        for i in range(0, len(tensor_val), BATCH_SIZE):\n",
    "            inputs_val = tensor_val[i:i + BATCH_SIZE].to(device)\n",
    "            labels_val = labels_val_index[i:i + BATCH_SIZE].to(device)\n",
    "\n",
    "            outputs_val = resnet34(inputs_val)  # Forward pass\n",
    "            loss_val = criterion(outputs_val, labels_val)  # Compute loss\n",
    "\n",
    "            val_loss += loss_val.item() * inputs_val.size(0)\n",
    "            _, predicted_val = torch.max(outputs_val.data, 1)\n",
    "            total_val += labels_val.size(0)\n",
    "            correct_val += (predicted_val == labels_val).sum().item()\n",
    "\n",
    "    val_acc = correct_val / total_val\n",
    "    val_losses_resnet34.append(val_loss / len(tensor_val))\n",
    "    val_accs_resnet34.append(val_acc)\n",
    "\n",
    "    print(f\"Epoch [{epoch + 1}/{MAX_EPOCH}], \"\n",
    "          f\"Train Loss: {train_losses_resnet34[-1]:.4f}, Train Acc: {train_accs_resnet34[-1]:.4f}, \"\n",
    "          f\"Val Loss: {val_losses_resnet34[-1]:.4f}, Val Acc: {val_accs_resnet34[-1]:.4f}\")\n",
    "\n",
    "    # Save the model with the best validation accuracy\n",
    "    if val_acc > best_val_acc:\n",
    "        best_val_acc = val_acc\n",
    "        if not os.path.exists(\"../models\"):\n",
    "            os.makedirs(\"../models\")\n",
    "        torch.save(resnet34, \"../models/resnet34_checkpoint.pkl\")\n",
    "        print(f\"Saved best model with validation accuracy: {best_val_acc:.4f}\")\n",
    "\n",
    "    # Early stopping logic\n",
    "    if epoch > 0 and len(val_accs_resnet34) > 1:\n",
    "        if val_accs_resnet34[-1] - val_accs_resnet34[-2] < min_delta:\n",
    "            patience_counter += 1\n",
    "            if patience_counter >= patience:\n",
    "                print(f\"Early stopping triggered at epoch {epoch + 1}\")\n",
    "                break\n",
    "        else:\n",
    "            patience_counter = 0\n",
    "\n",
    "    # Update the learning rate scheduler\n",
    "    scheduler.step()  # Step the learning rate scheduler"
   ],
   "outputs": [
    {
     "name": "stderr",
     "output_type": "stream",
     "text": [
      "Training ResNet34:  10%|█         | 1/10 [01:43<15:33, 103.73s/it]"
     ]
    },
    {
     "name": "stdout",
     "output_type": "stream",
     "text": [
      "Epoch [1/10], Train Loss: 3.6242, Train Acc: 0.0781, Val Loss: 2.3137, Val Acc: 0.0919\n",
      "Saved best model with validation accuracy: 0.0919\n"
     ]
    },
    {
     "name": "stderr",
     "output_type": "stream",
     "text": [
      "Training ResNet34:  20%|██        | 2/10 [03:29<13:57, 104.65s/it]"
     ]
    },
    {
     "name": "stdout",
     "output_type": "stream",
     "text": [
      "Epoch [2/10], Train Loss: 2.3393, Train Acc: 0.0064, Val Loss: 2.9692, Val Acc: 0.0950\n",
      "Saved best model with validation accuracy: 0.0950\n"
     ]
    },
    {
     "name": "stderr",
     "output_type": "stream",
     "text": [
      "Training ResNet34:  30%|███       | 3/10 [05:15<12:17, 105.37s/it]"
     ]
    },
    {
     "name": "stdout",
     "output_type": "stream",
     "text": [
      "Epoch [3/10], Train Loss: 2.3472, Train Acc: 0.0000, Val Loss: 2.3120, Val Acc: 0.0985\n",
      "Saved best model with validation accuracy: 0.0985\n"
     ]
    },
    {
     "name": "stderr",
     "output_type": "stream",
     "text": [
      "Training ResNet34:  40%|████      | 4/10 [07:01<10:34, 105.69s/it]"
     ]
    },
    {
     "name": "stdout",
     "output_type": "stream",
     "text": [
      "Epoch [4/10], Train Loss: 2.3093, Train Acc: 0.0995, Val Loss: 2.3193, Val Acc: 0.0977\n"
     ]
    },
    {
     "name": "stderr",
     "output_type": "stream",
     "text": [
      "Training ResNet34:  50%|█████     | 5/10 [08:46<08:48, 105.62s/it]"
     ]
    },
    {
     "name": "stdout",
     "output_type": "stream",
     "text": [
      "Epoch [5/10], Train Loss: 2.3085, Train Acc: 0.1000, Val Loss: 2.3163, Val Acc: 0.0977\n"
     ]
    },
    {
     "name": "stderr",
     "output_type": "stream",
     "text": [
      "Training ResNet34:  50%|█████     | 5/10 [10:31<10:31, 126.26s/it]"
     ]
    },
    {
     "name": "stdout",
     "output_type": "stream",
     "text": [
      "Epoch [6/10], Train Loss: 2.3082, Train Acc: 0.1000, Val Loss: 2.3144, Val Acc: 0.0973\n",
      "Early stopping triggered at epoch 6\n"
     ]
    },
    {
     "name": "stderr",
     "output_type": "stream",
     "text": [
      "\n"
     ]
    }
   ],
   "execution_count": 19
  },
  {
   "cell_type": "code",
   "id": "bb5a3089891cf4a3",
   "metadata": {
    "collapsed": false,
    "ExecuteTime": {
     "end_time": "2025-07-13T11:12:11.736268Z",
     "start_time": "2025-07-13T11:12:11.424790Z"
    }
   },
   "source": [
    "# TODO: 5. Plot the loss and accuracy curves.\n",
    "\n",
    "def plot_curves(train_accs, train_losses, val_accs, val_losses, title):\n",
    "    epochs = range(1, len(train_accs) + 1)\n",
    "\n",
    "    plt.figure(figsize=(12, 5))\n",
    "\n",
    "    # Plot accuracy\n",
    "    plt.subplot(1, 2, 1)\n",
    "    plt.plot(epochs, train_accs, label='Train Accuracy', marker='o')\n",
    "    plt.plot(epochs, val_accs, label='Validation Accuracy', marker='o')\n",
    "    plt.title(f'{title} - Accuracy')\n",
    "    plt.xlabel('Epochs')\n",
    "    plt.ylabel('Accuracy')\n",
    "    plt.legend()\n",
    "    plt.grid()\n",
    "\n",
    "    # Plot loss\n",
    "    plt.subplot(1, 2, 2)\n",
    "    plt.plot(epochs, train_losses, label='Train Loss', marker='o')\n",
    "    plt.plot(epochs, val_losses, label='Validation Loss', marker='o')\n",
    "    plt.title(f'{title} - Loss')\n",
    "    plt.xlabel('Epochs')\n",
    "    plt.ylabel('Loss')\n",
    "    plt.legend()\n",
    "    plt.grid()\n",
    "\n",
    "    plt.tight_layout()\n",
    "    plt.show()\n",
    "\n",
    "\n",
    "plot_curves(train_accs_resnet34, train_losses_resnet34, val_accs_resnet34, val_losses_resnet34, \"ResNet34\")"
   ],
   "outputs": [
    {
     "data": {
      "text/plain": [
       "<Figure size 1200x500 with 2 Axes>"
      ],
      "image/png": "[encoded data removed]"
     },
     "metadata": {},
     "output_type": "display_data"
    }
   ],
   "execution_count": 20
  },
  {
   "cell_type": "markdown",
   "id": "897fa4102b57deab",
   "metadata": {
    "collapsed": false
   },
   "source": [
    "# Step 3 Train the student model (ResNet18)\n",
    "1. Set hyperparameters for the distillation process.\n",
    "2. Create a NON-PRETRAINED ResNet18 and move the model to selected device.\n",
    "3. Load the saved ResNet34 and move the model to selected device.\n",
    "4. Define the optimizer, loss function, etc.\n",
    "5. Train ResNet18 and save the best-performing parameters to 'resnet18_checkpoint.pkl'.\n",
    "6. Plot the loss and accuracy curves."
   ]
  },
  {
   "cell_type": "code",
   "id": "68482456ab9410f8",
   "metadata": {
    "collapsed": false,
    "ExecuteTime": {
     "end_time": "2025-07-13T11:12:11.875747Z",
     "start_time": "2025-07-13T11:12:11.845494Z"
    }
   },
   "source": [
    "# Verify data shapes\n",
    "\n",
    "num_classes = max(labels_train_index) + 1\n",
    "print(num_classes)\n",
    "print(tensor_train.shape)\n",
    "print(tensor_val.shape)\n",
    "print(tensor_test.shape)\n",
    "print(labels_train_index.shape)\n",
    "print(labels_val_index.shape)"
   ],
   "outputs": [
    {
     "name": "stdout",
     "output_type": "stream",
     "text": [
      "tensor(10)\n",
      "torch.Size([7800, 3, 224, 224])\n",
      "torch.Size([2600, 3, 224, 224])\n",
      "torch.Size([2600, 3, 224, 224])\n",
      "torch.Size([7800])\n",
      "torch.Size([2600])\n"
     ]
    }
   ],
   "execution_count": 21
  },
  {
   "cell_type": "code",
   "id": "36a405975e022459",
   "metadata": {
    "collapsed": false,
    "ExecuteTime": {
     "end_time": "2025-07-13T11:12:11.999235Z",
     "start_time": "2025-07-13T11:12:11.985077Z"
    }
   },
   "source": [
    "# TODO: 1. Set hyperparameters for the distillation process.\n",
    "\n",
    "MAX_EPOCH = 10\n",
    "INIT_LR = 0.01\n",
    "BATCH_SIZE = 200\n",
    "device = torch.device(\"cuda\" if torch.cuda.is_available() else \"cpu\")\n",
    "\n",
    "TEMPERATURE = 2.0  # Temperature for softmax in knowledge distillation\n",
    "LOSS_RATIO = 0.5  # Ratio between student loss and teacher loss"
   ],
   "outputs": [],
   "execution_count": 22
  },
  {
   "cell_type": "code",
   "id": "e7d2325836c2cf7d",
   "metadata": {
    "collapsed": false,
    "ExecuteTime": {
     "end_time": "2025-07-13T11:12:12.200028Z",
     "start_time": "2025-07-13T11:12:12.108276Z"
    }
   },
   "source": [
    "# TODO: 2. Create a NON-PRETRAINED ResNet18 and move the model to selected device.\n",
    "\n",
    "resnet18 = torchvision.models.resnet18(weights=None)  # Non-pretrained ResNet18\n",
    "resnet18.fc = nn.Linear(resnet18.fc.in_features, num_classes)\n",
    "resnet18 = resnet18.to(device)  # Move to device"
   ],
   "outputs": [],
   "execution_count": 23
  },
  {
   "cell_type": "code",
   "id": "b8092f5d5acce972",
   "metadata": {
    "collapsed": false,
    "ExecuteTime": {
     "end_time": "2025-07-13T11:12:12.370481Z",
     "start_time": "2025-07-13T11:12:12.309972Z"
    }
   },
   "source": [
    "# TODO: 3. Load the saved ResNet34 and move the model to selected device.\n",
    "# Hint: Enable the evaluation mode to prevent updating the parameters.\n",
    "\n",
    "resnet34 = torch.load(\"../models/resnet34_checkpoint.pkl\", weights_only=False)\n",
    "resnet34 = resnet34.to(device)  # Move to device\n",
    "resnet34.eval()  # Set to evaluation mode"
   ],
   "outputs": [
    {
     "data": {
      "text/plain": [
       "ResNet(\n",
       "  (conv1): Conv2d(3, 64, kernel_size=(7, 7), stride=(2, 2), padding=(3, 3), bias=False)\n",
       "  (bn1): BatchNorm2d(64, eps=1e-05, momentum=0.1, affine=True, track_running_stats=True)\n",
       "  (relu): ReLU(inplace=True)\n",
       "  (maxpool): MaxPool2d(kernel_size=3, stride=2, padding=1, dilation=1, ceil_mode=False)\n",
       "  (layer1): Sequential(\n",
       "    (0): BasicBlock(\n",
       "      (conv1): Conv2d(64, 64, kernel_size=(3, 3), stride=(1, 1), padding=(1, 1), bias=False)\n",
       "      (bn1): BatchNorm2d(64, eps=1e-05, momentum=0.1, affine=True, track_running_stats=True)\n",
       "      (relu): ReLU(inplace=True)\n",
       "      (conv2): Conv2d(64, 64, kernel_size=(3, 3), stride=(1, 1), padding=(1, 1), bias=False)\n",
       "      (bn2): BatchNorm2d(64, eps=1e-05, momentum=0.1, affine=True, track_running_stats=True)\n",
       "    )\n",
       "    (1): BasicBlock(\n",
       "      (conv1): Conv2d(64, 64, kernel_size=(3, 3), stride=(1, 1), padding=(1, 1), bias=False)\n",
       "      (bn1): BatchNorm2d(64, eps=1e-05, momentum=0.1, affine=True, track_running_stats=True)\n",
       "      (relu): ReLU(inplace=True)\n",
       "      (conv2): Conv2d(64, 64, kernel_size=(3, 3), stride=(1, 1), padding=(1, 1), bias=False)\n",
       "      (bn2): BatchNorm2d(64, eps=1e-05, momentum=0.1, affine=True, track_running_stats=True)\n",
       "    )\n",
       "    (2): BasicBlock(\n",
       "      (conv1): Conv2d(64, 64, kernel_size=(3, 3), stride=(1, 1), padding=(1, 1), bias=False)\n",
       "      (bn1): BatchNorm2d(64, eps=1e-05, momentum=0.1, affine=True, track_running_stats=True)\n",
       "      (relu): ReLU(inplace=True)\n",
       "      (conv2): Conv2d(64, 64, kernel_size=(3, 3), stride=(1, 1), padding=(1, 1), bias=False)\n",
       "      (bn2): BatchNorm2d(64, eps=1e-05, momentum=0.1, affine=True, track_running_stats=True)\n",
       "    )\n",
       "  )\n",
       "  (layer2): Sequential(\n",
       "    (0): BasicBlock(\n",
       "      (conv1): Conv2d(64, 128, kernel_size=(3, 3), stride=(2, 2), padding=(1, 1), bias=False)\n",
       "      (bn1): BatchNorm2d(128, eps=1e-05, momentum=0.1, affine=True, track_running_stats=True)\n",
       "      (relu): ReLU(inplace=True)\n",
       "      (conv2): Conv2d(128, 128, kernel_size=(3, 3), stride=(1, 1), padding=(1, 1), bias=False)\n",
       "      (bn2): BatchNorm2d(128, eps=1e-05, momentum=0.1, affine=True, track_running_stats=True)\n",
       "      (downsample): Sequential(\n",
       "        (0): Conv2d(64, 128, kernel_size=(1, 1), stride=(2, 2), bias=False)\n",
       "        (1): BatchNorm2d(128, eps=1e-05, momentum=0.1, affine=True, track_running_stats=True)\n",
       "      )\n",
       "    )\n",
       "    (1): BasicBlock(\n",
       "      (conv1): Conv2d(128, 128, kernel_size=(3, 3), stride=(1, 1), padding=(1, 1), bias=False)\n",
       "      (bn1): BatchNorm2d(128, eps=1e-05, momentum=0.1, affine=True, track_running_stats=True)\n",
       "      (relu): ReLU(inplace=True)\n",
       "      (conv2): Conv2d(128, 128, kernel_size=(3, 3), stride=(1, 1), padding=(1, 1), bias=False)\n",
       "      (bn2): BatchNorm2d(128, eps=1e-05, momentum=0.1, affine=True, track_running_stats=True)\n",
       "    )\n",
       "    (2): BasicBlock(\n",
       "      (conv1): Conv2d(128, 128, kernel_size=(3, 3), stride=(1, 1), padding=(1, 1), bias=False)\n",
       "      (bn1): BatchNorm2d(128, eps=1e-05, momentum=0.1, affine=True, track_running_stats=True)\n",
       "      (relu): ReLU(inplace=True)\n",
       "      (conv2): Conv2d(128, 128, kernel_size=(3, 3), stride=(1, 1), padding=(1, 1), bias=False)\n",
       "      (bn2): BatchNorm2d(128, eps=1e-05, momentum=0.1, affine=True, track_running_stats=True)\n",
       "    )\n",
       "    (3): BasicBlock(\n",
       "      (conv1): Conv2d(128, 128, kernel_size=(3, 3), stride=(1, 1), padding=(1, 1), bias=False)\n",
       "      (bn1): BatchNorm2d(128, eps=1e-05, momentum=0.1, affine=True, track_running_stats=True)\n",
       "      (relu): ReLU(inplace=True)\n",
       "      (conv2): Conv2d(128, 128, kernel_size=(3, 3), stride=(1, 1), padding=(1, 1), bias=False)\n",
       "      (bn2): BatchNorm2d(128, eps=1e-05, momentum=0.1, affine=True, track_running_stats=True)\n",
       "    )\n",
       "  )\n",
       "  (layer3): Sequential(\n",
       "    (0): BasicBlock(\n",
       "      (conv1): Conv2d(128, 256, kernel_size=(3, 3), stride=(2, 2), padding=(1, 1), bias=False)\n",
       "      (bn1): BatchNorm2d(256, eps=1e-05, momentum=0.1, affine=True, track_running_stats=True)\n",
       "      (relu): ReLU(inplace=True)\n",
       "      (conv2): Conv2d(256, 256, kernel_size=(3, 3), stride=(1, 1), padding=(1, 1), bias=False)\n",
       "      (bn2): BatchNorm2d(256, eps=1e-05, momentum=0.1, affine=True, track_running_stats=True)\n",
       "      (downsample): Sequential(\n",
       "        (0): Conv2d(128, 256, kernel_size=(1, 1), stride=(2, 2), bias=False)\n",
       "        (1): BatchNorm2d(256, eps=1e-05, momentum=0.1, affine=True, track_running_stats=True)\n",
       "      )\n",
       "    )\n",
       "    (1): BasicBlock(\n",
       "      (conv1): Conv2d(256, 256, kernel_size=(3, 3), stride=(1, 1), padding=(1, 1), bias=False)\n",
       "      (bn1): BatchNorm2d(256, eps=1e-05, momentum=0.1, affine=True, track_running_stats=True)\n",
       "      (relu): ReLU(inplace=True)\n",
       "      (conv2): Conv2d(256, 256, kernel_size=(3, 3), stride=(1, 1), padding=(1, 1), bias=False)\n",
       "      (bn2): BatchNorm2d(256, eps=1e-05, momentum=0.1, affine=True, track_running_stats=True)\n",
       "    )\n",
       "    (2): BasicBlock(\n",
       "      (conv1): Conv2d(256, 256, kernel_size=(3, 3), stride=(1, 1), padding=(1, 1), bias=False)\n",
       "      (bn1): BatchNorm2d(256, eps=1e-05, momentum=0.1, affine=True, track_running_stats=True)\n",
       "      (relu): ReLU(inplace=True)\n",
       "      (conv2): Conv2d(256, 256, kernel_size=(3, 3), stride=(1, 1), padding=(1, 1), bias=False)\n",
       "      (bn2): BatchNorm2d(256, eps=1e-05, momentum=0.1, affine=True, track_running_stats=True)\n",
       "    )\n",
       "    (3): BasicBlock(\n",
       "      (conv1): Conv2d(256, 256, kernel_size=(3, 3), stride=(1, 1), padding=(1, 1), bias=False)\n",
       "      (bn1): BatchNorm2d(256, eps=1e-05, momentum=0.1, affine=True, track_running_stats=True)\n",
       "      (relu): ReLU(inplace=True)\n",
       "      (conv2): Conv2d(256, 256, kernel_size=(3, 3), stride=(1, 1), padding=(1, 1), bias=False)\n",
       "      (bn2): BatchNorm2d(256, eps=1e-05, momentum=0.1, affine=True, track_running_stats=True)\n",
       "    )\n",
       "    (4): BasicBlock(\n",
       "      (conv1): Conv2d(256, 256, kernel_size=(3, 3), stride=(1, 1), padding=(1, 1), bias=False)\n",
       "      (bn1): BatchNorm2d(256, eps=1e-05, momentum=0.1, affine=True, track_running_stats=True)\n",
       "      (relu): ReLU(inplace=True)\n",
       "      (conv2): Conv2d(256, 256, kernel_size=(3, 3), stride=(1, 1), padding=(1, 1), bias=False)\n",
       "      (bn2): BatchNorm2d(256, eps=1e-05, momentum=0.1, affine=True, track_running_stats=True)\n",
       "    )\n",
       "    (5): BasicBlock(\n",
       "      (conv1): Conv2d(256, 256, kernel_size=(3, 3), stride=(1, 1), padding=(1, 1), bias=False)\n",
       "      (bn1): BatchNorm2d(256, eps=1e-05, momentum=0.1, affine=True, track_running_stats=True)\n",
       "      (relu): ReLU(inplace=True)\n",
       "      (conv2): Conv2d(256, 256, kernel_size=(3, 3), stride=(1, 1), padding=(1, 1), bias=False)\n",
       "      (bn2): BatchNorm2d(256, eps=1e-05, momentum=0.1, affine=True, track_running_stats=True)\n",
       "    )\n",
       "  )\n",
       "  (layer4): Sequential(\n",
       "    (0): BasicBlock(\n",
       "      (conv1): Conv2d(256, 512, kernel_size=(3, 3), stride=(2, 2), padding=(1, 1), bias=False)\n",
       "      (bn1): BatchNorm2d(512, eps=1e-05, momentum=0.1, affine=True, track_running_stats=True)\n",
       "      (relu): ReLU(inplace=True)\n",
       "      (conv2): Conv2d(512, 512, kernel_size=(3, 3), stride=(1, 1), padding=(1, 1), bias=False)\n",
       "      (bn2): BatchNorm2d(512, eps=1e-05, momentum=0.1, affine=True, track_running_stats=True)\n",
       "      (downsample): Sequential(\n",
       "        (0): Conv2d(256, 512, kernel_size=(1, 1), stride=(2, 2), bias=False)\n",
       "        (1): BatchNorm2d(512, eps=1e-05, momentum=0.1, affine=True, track_running_stats=True)\n",
       "      )\n",
       "    )\n",
       "    (1): BasicBlock(\n",
       "      (conv1): Conv2d(512, 512, kernel_size=(3, 3), stride=(1, 1), padding=(1, 1), bias=False)\n",
       "      (bn1): BatchNorm2d(512, eps=1e-05, momentum=0.1, affine=True, track_running_stats=True)\n",
       "      (relu): ReLU(inplace=True)\n",
       "      (conv2): Conv2d(512, 512, kernel_size=(3, 3), stride=(1, 1), padding=(1, 1), bias=False)\n",
       "      (bn2): BatchNorm2d(512, eps=1e-05, momentum=0.1, affine=True, track_running_stats=True)\n",
       "    )\n",
       "    (2): BasicBlock(\n",
       "      (conv1): Conv2d(512, 512, kernel_size=(3, 3), stride=(1, 1), padding=(1, 1), bias=False)\n",
       "      (bn1): BatchNorm2d(512, eps=1e-05, momentum=0.1, affine=True, track_running_stats=True)\n",
       "      (relu): ReLU(inplace=True)\n",
       "      (conv2): Conv2d(512, 512, kernel_size=(3, 3), stride=(1, 1), padding=(1, 1), bias=False)\n",
       "      (bn2): BatchNorm2d(512, eps=1e-05, momentum=0.1, affine=True, track_running_stats=True)\n",
       "    )\n",
       "  )\n",
       "  (avgpool): AdaptiveAvgPool2d(output_size=(1, 1))\n",
       "  (fc): Linear(in_features=512, out_features=10, bias=True)\n",
       ")"
      ]
     },
     "execution_count": 24,
     "metadata": {},
     "output_type": "execute_result"
    }
   ],
   "execution_count": 24
  },
  {
   "cell_type": "code",
   "id": "f312a04da1e5ddf6",
   "metadata": {
    "collapsed": false,
    "ExecuteTime": {
     "end_time": "2025-07-13T11:12:12.385998Z",
     "start_time": "2025-07-13T11:12:12.373546Z"
    }
   },
   "source": [
    "# TODO: 4. Define the optimizer, loss function, etc.\n",
    "\n",
    "optimizer = torch.optim.Adam(resnet18.parameters(), lr=INIT_LR)\n",
    "scheduler = torch.optim.lr_scheduler.StepLR(optimizer, step_size=5, gamma=0.1)  # Learning rate scheduler"
   ],
   "outputs": [],
   "execution_count": 25
  },
  {
   "cell_type": "code",
   "id": "3c17f3f9eb662cef",
   "metadata": {
    "collapsed": false,
    "ExecuteTime": {
     "end_time": "2025-07-13T11:26:03.711730Z",
     "start_time": "2025-07-13T11:12:12.604845Z"
    }
   },
   "source": [
    "# TODO: 5. Train ResNet18 and save the best-performing parameters to 'resnet18_checkpoint.pkl'.\n",
    "# Hint: Use the correct loss function for knowledge distillation.\n",
    "#       Details can be fund in https://docs.pytorch.org/tutorials/beginner/knowledge_distillation_tutorial.html.\n",
    "\n",
    "# Defining knowledge distillation loss function\n",
    "def distillation_loss(student_outputs, teacher_outputs, true_labels, temperature, ratio):\n",
    "    \"\"\"\n",
    "    Knowledge distillation loss function\n",
    "    \"\"\"\n",
    "    # Hard loss (student predictions vs true labels)\n",
    "    hard_loss = F.cross_entropy(student_outputs, true_labels)\n",
    "\n",
    "    # Soft loss (student predictions vs teacher predictions)\n",
    "    student_soft = F.log_softmax(student_outputs / temperature, dim=1)\n",
    "    teacher_soft = F.softmax(teacher_outputs / temperature, dim=1)\n",
    "    soft_loss = F.kl_div(student_soft, teacher_soft, reduction='batchmean') * (temperature ** 2)\n",
    "\n",
    "    # Combined loss\n",
    "    return ratio * hard_loss + (1 - ratio) * soft_loss\n",
    "\n",
    "\n",
    "# Training loop\n",
    "train_accs_resnet18, train_losses_resnet18, val_accs_resnet18, val_losses_resnet18 = [], [], [], []\n",
    "best_val_acc = 0.0\n",
    "\n",
    "for epoch in trange(MAX_EPOCH, desc=\"Training ResNet18\"):\n",
    "    if torch.cuda.is_available():\n",
    "        torch.cuda.empty_cache()\n",
    "\n",
    "    resnet18.train()\n",
    "    resnet34.eval()  # Make sure the teacher model is in evaluation mode\n",
    "\n",
    "    train_loss = 0.0\n",
    "    correct = 0\n",
    "    total = 0\n",
    "\n",
    "    # Training phase\n",
    "    for i in range(0, len(tensor_train), BATCH_SIZE):\n",
    "        inputs = tensor_train[i:i + BATCH_SIZE].to(device)\n",
    "        labels = labels_train_index[i:i + BATCH_SIZE].to(device)\n",
    "\n",
    "        optimizer.zero_grad()\n",
    "\n",
    "        # Forward communication of student models\n",
    "        student_outputs = resnet18(inputs)\n",
    "\n",
    "        # Forward propagation of teacher models (no gradient calculation)\n",
    "        with torch.no_grad():\n",
    "            teacher_outputs = resnet34(inputs)\n",
    "\n",
    "        # Calculate knowledge distillation loss\n",
    "        loss = distillation_loss(student_outputs, teacher_outputs, labels, TEMPERATURE, LOSS_RATIO)\n",
    "\n",
    "        loss.backward()\n",
    "        optimizer.step()\n",
    "\n",
    "        train_loss += loss.item() * inputs.size(0)\n",
    "        _, predicted = torch.max(student_outputs.data, 1)\n",
    "        total += labels.size(0)\n",
    "        correct += (predicted == labels).sum().item()\n",
    "\n",
    "    train_acc = correct / total\n",
    "    train_losses_resnet18.append(train_loss / len(tensor_train))\n",
    "    train_accs_resnet18.append(train_acc)\n",
    "\n",
    "    # Verification phase\n",
    "    resnet18.eval()\n",
    "    val_loss = 0.0\n",
    "    correct_val = 0\n",
    "    total_val = 0\n",
    "\n",
    "    with torch.no_grad():\n",
    "        for i in range(0, len(tensor_val), BATCH_SIZE):\n",
    "            inputs_val = tensor_val[i:i + BATCH_SIZE].to(device)\n",
    "            labels_val = labels_val_index[i:i + BATCH_SIZE].to(device)\n",
    "\n",
    "            student_outputs_val = resnet18(inputs_val)\n",
    "            teacher_outputs_val = resnet34(inputs_val)\n",
    "\n",
    "            loss_val = distillation_loss(student_outputs_val, teacher_outputs_val, labels_val, TEMPERATURE, LOSS_RATIO)\n",
    "\n",
    "            val_loss += loss_val.item() * inputs_val.size(0)\n",
    "            _, predicted_val = torch.max(student_outputs_val.data, 1)\n",
    "            total_val += labels_val.size(0)\n",
    "            correct_val += (predicted_val == labels_val).sum().item()\n",
    "\n",
    "    val_acc = correct_val / total_val\n",
    "    val_losses_resnet18.append(val_loss / len(tensor_val))\n",
    "    val_accs_resnet18.append(val_acc)\n",
    "\n",
    "    print(f\"Epoch [{epoch + 1}/{MAX_EPOCH}], \"\n",
    "          f\"Train Loss: {train_losses_resnet18[-1]:.4f}, Train Acc: {train_accs_resnet18[-1]:.4f}, \"\n",
    "          f\"Val Loss: {val_losses_resnet18[-1]:.4f}, Val Acc: {val_accs_resnet18[-1]:.4f}\")\n",
    "\n",
    "    # Save the best model\n",
    "    if val_acc > best_val_acc:\n",
    "        best_val_acc = val_acc\n",
    "        torch.save(resnet18, \"../models/resnet18_checkpoint.pkl\")\n",
    "        print(f\"Saved best model with validation accuracy: {best_val_acc:.4f}\")\n",
    "\n",
    "    scheduler.step()"
   ],
   "outputs": [
    {
     "name": "stderr",
     "output_type": "stream",
     "text": [
      "Training ResNet18:  10%|█         | 1/10 [01:19<11:56, 79.56s/it]"
     ]
    },
    {
     "name": "stdout",
     "output_type": "stream",
     "text": [
      "Epoch [1/10], Train Loss: 1.7620, Train Acc: 0.1437, Val Loss: 1.3080, Val Acc: 0.1077\n",
      "Saved best model with validation accuracy: 0.1077\n"
     ]
    },
    {
     "name": "stderr",
     "output_type": "stream",
     "text": [
      "Training ResNet18:  20%|██        | 2/10 [02:41<10:47, 80.96s/it]"
     ]
    },
    {
     "name": "stdout",
     "output_type": "stream",
     "text": [
      "Epoch [2/10], Train Loss: 1.1860, Train Acc: 0.0387, Val Loss: 1.2562, Val Acc: 0.0812\n"
     ]
    },
    {
     "name": "stderr",
     "output_type": "stream",
     "text": [
      "Training ResNet18:  30%|███       | 3/10 [04:03<09:30, 81.55s/it]"
     ]
    },
    {
     "name": "stdout",
     "output_type": "stream",
     "text": [
      "Epoch [3/10], Train Loss: 1.1753, Train Acc: 0.0631, Val Loss: 1.2056, Val Acc: 0.1200\n",
      "Saved best model with validation accuracy: 0.1200\n"
     ]
    },
    {
     "name": "stderr",
     "output_type": "stream",
     "text": [
      "Training ResNet18:  40%|████      | 4/10 [05:27<08:14, 82.47s/it]"
     ]
    },
    {
     "name": "stdout",
     "output_type": "stream",
     "text": [
      "Epoch [4/10], Train Loss: 1.1798, Train Acc: 0.0974, Val Loss: 3.2472, Val Acc: 0.1262\n",
      "Saved best model with validation accuracy: 0.1262\n"
     ]
    },
    {
     "name": "stderr",
     "output_type": "stream",
     "text": [
      "Training ResNet18:  50%|█████     | 5/10 [06:52<06:56, 83.35s/it]"
     ]
    },
    {
     "name": "stdout",
     "output_type": "stream",
     "text": [
      "Epoch [5/10], Train Loss: 1.2047, Train Acc: 0.0000, Val Loss: 1.1711, Val Acc: 0.0935\n"
     ]
    },
    {
     "name": "stderr",
     "output_type": "stream",
     "text": [
      "Training ResNet18:  60%|██████    | 6/10 [08:16<05:33, 83.49s/it]"
     ]
    },
    {
     "name": "stdout",
     "output_type": "stream",
     "text": [
      "Epoch [6/10], Train Loss: 1.1677, Train Acc: 0.0997, Val Loss: 1.1579, Val Acc: 0.0954\n"
     ]
    },
    {
     "name": "stderr",
     "output_type": "stream",
     "text": [
      "Training ResNet18:  70%|███████   | 7/10 [09:40<04:11, 83.72s/it]"
     ]
    },
    {
     "name": "stdout",
     "output_type": "stream",
     "text": [
      "Epoch [7/10], Train Loss: 1.1618, Train Acc: 0.0999, Val Loss: 1.1571, Val Acc: 0.0965\n"
     ]
    },
    {
     "name": "stderr",
     "output_type": "stream",
     "text": [
      "Training ResNet18:  80%|████████  | 8/10 [11:04<02:47, 83.71s/it]"
     ]
    },
    {
     "name": "stdout",
     "output_type": "stream",
     "text": [
      "Epoch [8/10], Train Loss: 1.1602, Train Acc: 0.1010, Val Loss: 1.1567, Val Acc: 0.0965\n"
     ]
    },
    {
     "name": "stderr",
     "output_type": "stream",
     "text": [
      "Training ResNet18:  90%|█████████ | 9/10 [12:29<01:24, 84.15s/it]"
     ]
    },
    {
     "name": "stdout",
     "output_type": "stream",
     "text": [
      "Epoch [9/10], Train Loss: 1.1596, Train Acc: 0.0785, Val Loss: 1.1565, Val Acc: 0.0996\n"
     ]
    },
    {
     "name": "stderr",
     "output_type": "stream",
     "text": [
      "Training ResNet18: 100%|██████████| 10/10 [13:51<00:00, 83.11s/it]"
     ]
    },
    {
     "name": "stdout",
     "output_type": "stream",
     "text": [
      "Epoch [10/10], Train Loss: 1.1592, Train Acc: 0.0494, Val Loss: 1.1563, Val Acc: 0.0912\n"
     ]
    },
    {
     "name": "stderr",
     "output_type": "stream",
     "text": [
      "\n"
     ]
    }
   ],
   "execution_count": 26
  },
  {
   "cell_type": "code",
   "id": "260396b6b143a422",
   "metadata": {
    "collapsed": false,
    "ExecuteTime": {
     "end_time": "2025-07-13T11:26:04.023284Z",
     "start_time": "2025-07-13T11:26:03.869204Z"
    }
   },
   "source": [
    "# TODO: 6. Plot the loss and accuracy curves.\n",
    "\n",
    "plot_curves(train_accs_resnet18, train_losses_resnet18, val_accs_resnet18, val_losses_resnet18, \"ResNet18\")"
   ],
   "outputs": [
    {
     "data": {
      "text/plain": [
       "<Figure size 1200x500 with 2 Axes>"
      ],
      "image/png": "[encoded data removed]"
     },
     "metadata": {},
     "output_type": "display_data"
    }
   ],
   "execution_count": 27
  },
  {
   "cell_type": "markdown",
   "id": "730790a6c4e96912",
   "metadata": {
    "collapsed": false
   },
   "source": [
    "# Step 4 Predict labels in the testing set\n",
    "1. Load the saved ResNet18 and move it to the selected device.\n",
    "2. Do prediction using the images in the testing set.\n",
    "3. Write the results into the CSV file for submission."
   ]
  },
  {
   "cell_type": "code",
   "id": "d2a8f6f703b42a0a",
   "metadata": {
    "collapsed": false,
    "ExecuteTime": {
     "end_time": "2025-07-13T11:26:04.070440Z",
     "start_time": "2025-07-13T11:26:04.027631Z"
    }
   },
   "source": [
    "# TODO: 1. Load the saved ResNet18 and move it to the selected device.\n",
    "# Hint: Enable the evaluation mode to prevent updating the parameters.\n",
    "\n",
    "resnet18 = torch.load(\"../models/resnet18_checkpoint.pkl\", weights_only=False)\n",
    "resnet18 = resnet18.to(device)\n",
    "resnet18.eval()"
   ],
   "outputs": [
    {
     "data": {
      "text/plain": [
       "ResNet(\n",
       "  (conv1): Conv2d(3, 64, kernel_size=(7, 7), stride=(2, 2), padding=(3, 3), bias=False)\n",
       "  (bn1): BatchNorm2d(64, eps=1e-05, momentum=0.1, affine=True, track_running_stats=True)\n",
       "  (relu): ReLU(inplace=True)\n",
       "  (maxpool): MaxPool2d(kernel_size=3, stride=2, padding=1, dilation=1, ceil_mode=False)\n",
       "  (layer1): Sequential(\n",
       "    (0): BasicBlock(\n",
       "      (conv1): Conv2d(64, 64, kernel_size=(3, 3), stride=(1, 1), padding=(1, 1), bias=False)\n",
       "      (bn1): BatchNorm2d(64, eps=1e-05, momentum=0.1, affine=True, track_running_stats=True)\n",
       "      (relu): ReLU(inplace=True)\n",
       "      (conv2): Conv2d(64, 64, kernel_size=(3, 3), stride=(1, 1), padding=(1, 1), bias=False)\n",
       "      (bn2): BatchNorm2d(64, eps=1e-05, momentum=0.1, affine=True, track_running_stats=True)\n",
       "    )\n",
       "    (1): BasicBlock(\n",
       "      (conv1): Conv2d(64, 64, kernel_size=(3, 3), stride=(1, 1), padding=(1, 1), bias=False)\n",
       "      (bn1): BatchNorm2d(64, eps=1e-05, momentum=0.1, affine=True, track_running_stats=True)\n",
       "      (relu): ReLU(inplace=True)\n",
       "      (conv2): Conv2d(64, 64, kernel_size=(3, 3), stride=(1, 1), padding=(1, 1), bias=False)\n",
       "      (bn2): BatchNorm2d(64, eps=1e-05, momentum=0.1, affine=True, track_running_stats=True)\n",
       "    )\n",
       "  )\n",
       "  (layer2): Sequential(\n",
       "    (0): BasicBlock(\n",
       "      (conv1): Conv2d(64, 128, kernel_size=(3, 3), stride=(2, 2), padding=(1, 1), bias=False)\n",
       "      (bn1): BatchNorm2d(128, eps=1e-05, momentum=0.1, affine=True, track_running_stats=True)\n",
       "      (relu): ReLU(inplace=True)\n",
       "      (conv2): Conv2d(128, 128, kernel_size=(3, 3), stride=(1, 1), padding=(1, 1), bias=False)\n",
       "      (bn2): BatchNorm2d(128, eps=1e-05, momentum=0.1, affine=True, track_running_stats=True)\n",
       "      (downsample): Sequential(\n",
       "        (0): Conv2d(64, 128, kernel_size=(1, 1), stride=(2, 2), bias=False)\n",
       "        (1): BatchNorm2d(128, eps=1e-05, momentum=0.1, affine=True, track_running_stats=True)\n",
       "      )\n",
       "    )\n",
       "    (1): BasicBlock(\n",
       "      (conv1): Conv2d(128, 128, kernel_size=(3, 3), stride=(1, 1), padding=(1, 1), bias=False)\n",
       "      (bn1): BatchNorm2d(128, eps=1e-05, momentum=0.1, affine=True, track_running_stats=True)\n",
       "      (relu): ReLU(inplace=True)\n",
       "      (conv2): Conv2d(128, 128, kernel_size=(3, 3), stride=(1, 1), padding=(1, 1), bias=False)\n",
       "      (bn2): BatchNorm2d(128, eps=1e-05, momentum=0.1, affine=True, track_running_stats=True)\n",
       "    )\n",
       "  )\n",
       "  (layer3): Sequential(\n",
       "    (0): BasicBlock(\n",
       "      (conv1): Conv2d(128, 256, kernel_size=(3, 3), stride=(2, 2), padding=(1, 1), bias=False)\n",
       "      (bn1): BatchNorm2d(256, eps=1e-05, momentum=0.1, affine=True, track_running_stats=True)\n",
       "      (relu): ReLU(inplace=True)\n",
       "      (conv2): Conv2d(256, 256, kernel_size=(3, 3), stride=(1, 1), padding=(1, 1), bias=False)\n",
       "      (bn2): BatchNorm2d(256, eps=1e-05, momentum=0.1, affine=True, track_running_stats=True)\n",
       "      (downsample): Sequential(\n",
       "        (0): Conv2d(128, 256, kernel_size=(1, 1), stride=(2, 2), bias=False)\n",
       "        (1): BatchNorm2d(256, eps=1e-05, momentum=0.1, affine=True, track_running_stats=True)\n",
       "      )\n",
       "    )\n",
       "    (1): BasicBlock(\n",
       "      (conv1): Conv2d(256, 256, kernel_size=(3, 3), stride=(1, 1), padding=(1, 1), bias=False)\n",
       "      (bn1): BatchNorm2d(256, eps=1e-05, momentum=0.1, affine=True, track_running_stats=True)\n",
       "      (relu): ReLU(inplace=True)\n",
       "      (conv2): Conv2d(256, 256, kernel_size=(3, 3), stride=(1, 1), padding=(1, 1), bias=False)\n",
       "      (bn2): BatchNorm2d(256, eps=1e-05, momentum=0.1, affine=True, track_running_stats=True)\n",
       "    )\n",
       "  )\n",
       "  (layer4): Sequential(\n",
       "    (0): BasicBlock(\n",
       "      (conv1): Conv2d(256, 512, kernel_size=(3, 3), stride=(2, 2), padding=(1, 1), bias=False)\n",
       "      (bn1): BatchNorm2d(512, eps=1e-05, momentum=0.1, affine=True, track_running_stats=True)\n",
       "      (relu): ReLU(inplace=True)\n",
       "      (conv2): Conv2d(512, 512, kernel_size=(3, 3), stride=(1, 1), padding=(1, 1), bias=False)\n",
       "      (bn2): BatchNorm2d(512, eps=1e-05, momentum=0.1, affine=True, track_running_stats=True)\n",
       "      (downsample): Sequential(\n",
       "        (0): Conv2d(256, 512, kernel_size=(1, 1), stride=(2, 2), bias=False)\n",
       "        (1): BatchNorm2d(512, eps=1e-05, momentum=0.1, affine=True, track_running_stats=True)\n",
       "      )\n",
       "    )\n",
       "    (1): BasicBlock(\n",
       "      (conv1): Conv2d(512, 512, kernel_size=(3, 3), stride=(1, 1), padding=(1, 1), bias=False)\n",
       "      (bn1): BatchNorm2d(512, eps=1e-05, momentum=0.1, affine=True, track_running_stats=True)\n",
       "      (relu): ReLU(inplace=True)\n",
       "      (conv2): Conv2d(512, 512, kernel_size=(3, 3), stride=(1, 1), padding=(1, 1), bias=False)\n",
       "      (bn2): BatchNorm2d(512, eps=1e-05, momentum=0.1, affine=True, track_running_stats=True)\n",
       "    )\n",
       "  )\n",
       "  (avgpool): AdaptiveAvgPool2d(output_size=(1, 1))\n",
       "  (fc): Linear(in_features=512, out_features=10, bias=True)\n",
       ")"
      ]
     },
     "execution_count": 28,
     "metadata": {},
     "output_type": "execute_result"
    }
   ],
   "execution_count": 28
  },
  {
   "cell_type": "code",
   "id": "44ee908450e937e7",
   "metadata": {
    "collapsed": false,
    "ExecuteTime": {
     "end_time": "2025-07-13T11:26:05.856319Z",
     "start_time": "2025-07-13T11:26:04.319612Z"
    }
   },
   "source": [
    "# TODO: 2. Do prediction using the images in the testing set.\n",
    "predictions = []\n",
    "resnet18.eval()\n",
    "\n",
    "with torch.no_grad():\n",
    "    for i in trange(0, len(tensor_test), BATCH_SIZE, desc=\"Predicting\"):\n",
    "        inputs = tensor_test[i:i + BATCH_SIZE].to(device)\n",
    "        outputs = resnet18(inputs)\n",
    "        _, predicted = torch.max(outputs, 1)\n",
    "        predictions.extend(predicted.cpu().numpy())\n",
    "\n",
    "print(f\"Total predictions: {len(predictions)}\")"
   ],
   "outputs": [
    {
     "name": "stderr",
     "output_type": "stream",
     "text": [
      "Predicting: 100%|██████████| 13/13 [00:01<00:00,  8.54it/s]"
     ]
    },
    {
     "name": "stdout",
     "output_type": "stream",
     "text": [
      "Total predictions: 2600\n"
     ]
    },
    {
     "name": "stderr",
     "output_type": "stream",
     "text": [
      "\n"
     ]
    }
   ],
   "execution_count": 29
  },
  {
   "cell_type": "code",
   "id": "bee5ddbde0d132cf",
   "metadata": {
    "collapsed": false,
    "ExecuteTime": {
     "end_time": "2025-07-13T11:26:06.012918Z",
     "start_time": "2025-07-13T11:26:05.998376Z"
    }
   },
   "source": [
    "# TODO: 3. Write the results into the CSV file for submission.\n",
    "# Hint: The CSV file should be in the format of 'file_name' and 'label'.\n",
    "#       The submission.csv should look like:\n",
    "#           file_name,label\n",
    "#           0.jpg,sunglasses\n",
    "#           ...\n",
    "\n",
    "index_to_label = torch.load(\"../data_preprocessed/index_to_label.pt\")\n",
    "\n",
    "with open(\"submission.csv\", \"w\", newline=\"\") as csvfile:\n",
    "    writer = csv.writer(csvfile)\n",
    "    writer.writerow([\"file_name\", \"label\"])\n",
    "\n",
    "    for i, pred in enumerate(predictions):\n",
    "        label = index_to_label[pred]\n",
    "        writer.writerow([f\"{i}.jpg\", label])\n",
    "\n",
    "print(\"Submission file created\")\n",
    "print(f\"Generated {len(predictions)} predictions\")"
   ],
   "outputs": [
    {
     "name": "stdout",
     "output_type": "stream",
     "text": [
      "Submission file created\n",
      "Generated 2600 predictions\n"
     ]
    }
   ],
   "execution_count": 30
  }
 ],
 "metadata": {
  "kernelspec": {
   "display_name": "Python 3",
   "language": "python",
   "name": "python3"
  },
  "language_info": {
   "codemirror_mode": {
    "name": "ipython",
    "version": 2
   },
   "file_extension": ".py",
   "mimetype": "text/x-python",
   "name": "python",
   "nbconvert_exporter": "python",
   "pygments_lexer": "ipython2",
   "version": "2.7.6"
  }
 },
 "nbformat": 4,
 "nbformat_minor": 5
}
